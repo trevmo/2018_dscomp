{
 "cells": [
  {
   "cell_type": "code",
   "execution_count": null,
   "metadata": {},
   "outputs": [],
   "source": [
    "%env CUDA_DEVICE_ORDER=PCI_BUS_ID\n",
    "%env CUDA_VISIBLE_DEVICES=0"
   ]
  },
  {
   "cell_type": "code",
   "execution_count": null,
   "metadata": {
    "collapsed": true
   },
   "outputs": [],
   "source": [
    "import handle_data as hd\n",
    "path = \"data/ml_data/\""
   ]
  },
  {
   "cell_type": "code",
   "execution_count": null,
   "metadata": {
    "collapsed": true
   },
   "outputs": [],
   "source": [
    "train_data = hd.read_data(path, \"train.csv\", dt=\"float32\")\n",
    "train_labels = hd.read_data(path, \"train_labels.csv\", dt=\"int32\")"
   ]
  },
  {
   "cell_type": "code",
   "execution_count": null,
   "metadata": {
    "collapsed": true
   },
   "outputs": [],
   "source": [
    "test_data = hd.read_data(path, \"test.csv\")"
   ]
  },
  {
   "cell_type": "code",
   "execution_count": null,
   "metadata": {
    "collapsed": true
   },
   "outputs": [],
   "source": [
    "from model import *"
   ]
  },
  {
   "cell_type": "code",
   "execution_count": null,
   "metadata": {},
   "outputs": [],
   "source": [
    "params = {\n",
    "    \"input_shape\": [-1, 24, 24, 1],\n",
    "    \"conv_filters\": 32,\n",
    "    \"conv_kernel\": (4, 4),\n",
    "    \"pool_size\": (2,2),\n",
    "    \"pool_strides\": 2,\n",
    "    \"dense_units\": 1024,\n",
    "    \"dropout_rate\": 0.5,\n",
    "    \"output_units\": 13,\n",
    "    \"dir\": \"model\"\n",
    "}\n",
    "classifier = generate_classifier(params)"
   ]
  },
  {
   "cell_type": "code",
   "execution_count": null,
   "metadata": {},
   "outputs": [],
   "source": [
    "data = {\n",
    "    \"inputs\": train_data,\n",
    "    \"labels\": train_labels\n",
    "}\n",
    "train_classifier(data, 100, 10000, classifier)"
   ]
  },
  {
   "cell_type": "code",
   "execution_count": null,
   "metadata": {},
   "outputs": [],
   "source": [
    "eval_data = {\n",
    "    \"inputs\": train_data[20000:40000],\n",
    "    \"labels\": train_labels[20000:40000]\n",
    "}\n",
    "\n",
    "evaluate_classifier(eval_data, classifier)"
   ]
  },
  {
   "cell_type": "code",
   "execution_count": null,
   "metadata": {
    "collapsed": true
   },
   "outputs": [],
   "source": [
    "from grader import Grader\n",
    "from time import gmtime, strftime\n",
    "\n",
    "\n",
    "grader = Grader(classifier, test_data)\n",
    "print(strftime(\"%Y-%m-%d %H:%M:%S\", gmtime()))\n",
    "grader.grade((24, 120), 5, \"results4.csv\")\n",
    "print(strftime(\"%Y-%m-%d %H:%M:%S\", gmtime()))"
   ]
  }
 ],
 "metadata": {
  "kernelspec": {
   "display_name": "Python 3",
   "language": "python",
   "name": "python3"
  },
  "language_info": {
   "codemirror_mode": {
    "name": "ipython",
    "version": 3
   },
   "file_extension": ".py",
   "mimetype": "text/x-python",
   "name": "python",
   "nbconvert_exporter": "python",
   "pygments_lexer": "ipython3",
   "version": "3.6.3"
  }
 },
 "nbformat": 4,
 "nbformat_minor": 2
}
