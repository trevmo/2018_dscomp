{
 "cells": [
  {
   "cell_type": "code",
   "execution_count": 1,
   "metadata": {},
   "outputs": [
    {
     "name": "stdout",
     "output_type": "stream",
     "text": [
      "env: CUDA_DEVICE_ORDER=PCI_BUS_ID\n",
      "env: CUDA_VISIBLE_DEVICES=0\n"
     ]
    }
   ],
   "source": [
    "%env CUDA_DEVICE_ORDER=PCI_BUS_ID\n",
    "%env CUDA_VISIBLE_DEVICES=0"
   ]
  },
  {
   "cell_type": "code",
   "execution_count": 2,
   "metadata": {
    "collapsed": true
   },
   "outputs": [],
   "source": [
    "import handle_data as hd\n",
    "path = \"data/ml_data/\""
   ]
  },
  {
   "cell_type": "code",
   "execution_count": 3,
   "metadata": {
    "collapsed": true
   },
   "outputs": [],
   "source": [
    "train_data = hd.read_data(path, \"train.csv\", dt=\"float32\")\n",
    "train_labels = hd.read_data(path, \"train_labels.csv\", dt=\"int32\")"
   ]
  },
  {
   "cell_type": "code",
   "execution_count": null,
   "metadata": {
    "collapsed": true
   },
   "outputs": [],
   "source": [
    "test_data = hd.read_data(path, \"test.csv\")"
   ]
  },
  {
   "cell_type": "code",
   "execution_count": 4,
   "metadata": {
    "collapsed": true
   },
   "outputs": [],
   "source": [
    "from model import *"
   ]
  },
  {
   "cell_type": "code",
   "execution_count": 5,
   "metadata": {},
   "outputs": [
    {
     "name": "stdout",
     "output_type": "stream",
     "text": [
      "INFO:tensorflow:Using default config.\n",
      "INFO:tensorflow:Using config: {'_model_dir': 'model4', '_tf_random_seed': None, '_save_summary_steps': 100, '_save_checkpoints_steps': None, '_save_checkpoints_secs': 600, '_session_config': None, '_keep_checkpoint_max': 5, '_keep_checkpoint_every_n_hours': 10000, '_log_step_count_steps': 100, '_service': None, '_cluster_spec': <tensorflow.python.training.server_lib.ClusterSpec object at 0x0000026C6CDAD470>, '_task_type': 'worker', '_task_id': 0, '_master': '', '_is_chief': True, '_num_ps_replicas': 0, '_num_worker_replicas': 1}\n"
     ]
    }
   ],
   "source": [
    "#data = {\n",
    "#    \"inputs\": equation[:1],\n",
    "#    \"labels\": np.array([1])\n",
    "#}\n",
    "params_2nd_submit = {\n",
    "    \"input_shape\": [-1, 24, 24, 1],\n",
    "    \"conv_filters\": 32,\n",
    "    \"conv_kernel\": (5, 5),\n",
    "    \"pool_size\": (2,2),\n",
    "    \"pool_strides\": 2,\n",
    "    \"dense_units\": 1024,\n",
    "    \"dropout_rate\": 0.45,\n",
    "    \"output_units\": 13,\n",
    "    \"dir\": \"model2\"\n",
    "}\n",
    "params_3rd_submit = {\n",
    "    \"input_shape\": [-1, 24, 24, 1],\n",
    "    \"conv_filters\": 32,\n",
    "    \"conv_kernel\": (4, 4),\n",
    "    \"pool_size\": (2,2),\n",
    "    \"pool_strides\": 2,\n",
    "    \"dense_units\": 1024,\n",
    "    \"dropout_rate\": 0.5,\n",
    "    \"output_units\": 13,\n",
    "    \"dir\": \"model4\"\n",
    "}\n",
    "classifier = generate_classifier(params_3rd_submit)"
   ]
  },
  {
   "cell_type": "code",
   "execution_count": 6,
   "metadata": {},
   "outputs": [
    {
     "name": "stdout",
     "output_type": "stream",
     "text": [
      "INFO:tensorflow:Create CheckpointSaverHook.\n",
      "INFO:tensorflow:Restoring parameters from model4\\model.ckpt-20000\n",
      "INFO:tensorflow:Saving checkpoints for 20001 into model4\\model.ckpt.\n",
      "INFO:tensorflow:loss = 8.789116e-06, step = 20001\n",
      "INFO:tensorflow:global_step/sec: 24.2218\n",
      "INFO:tensorflow:loss = 5.245205e-08, step = 20101 (4.182 sec)\n",
      "INFO:tensorflow:global_step/sec: 24.5936\n",
      "INFO:tensorflow:loss = 0.00022286855, step = 20201 (4.013 sec)\n",
      "INFO:tensorflow:global_step/sec: 24.4644\n",
      "INFO:tensorflow:loss = 6.3834705e-05, step = 20301 (4.085 sec)\n",
      "INFO:tensorflow:global_step/sec: 25.9041\n",
      "INFO:tensorflow:loss = 0.0006766027, step = 20401 (3.860 sec)\n",
      "INFO:tensorflow:global_step/sec: 25.8882\n",
      "INFO:tensorflow:loss = 0.0020895281, step = 20501 (3.863 sec)\n",
      "INFO:tensorflow:global_step/sec: 25.7485\n",
      "INFO:tensorflow:loss = 3.4505317e-06, step = 20601 (3.885 sec)\n",
      "INFO:tensorflow:global_step/sec: 25.8617\n",
      "INFO:tensorflow:loss = 2.916076e-05, step = 20701 (3.867 sec)\n",
      "INFO:tensorflow:global_step/sec: 26.5043\n",
      "INFO:tensorflow:loss = 0.0048671262, step = 20801 (3.771 sec)\n",
      "INFO:tensorflow:global_step/sec: 26.0084\n",
      "INFO:tensorflow:loss = 5.304683e-07, step = 20901 (3.846 sec)\n",
      "INFO:tensorflow:global_step/sec: 25.5506\n",
      "INFO:tensorflow:loss = 2.3214672e-05, step = 21001 (3.914 sec)\n",
      "INFO:tensorflow:global_step/sec: 26.1923\n",
      "INFO:tensorflow:loss = 2.6353848e-06, step = 21101 (3.818 sec)\n",
      "INFO:tensorflow:global_step/sec: 26.2897\n",
      "INFO:tensorflow:loss = 0.010308013, step = 21201 (3.806 sec)\n",
      "INFO:tensorflow:global_step/sec: 26.1307\n",
      "INFO:tensorflow:loss = 2.3577295e-06, step = 21301 (3.828 sec)\n",
      "INFO:tensorflow:global_step/sec: 25.7623\n",
      "INFO:tensorflow:loss = 0.0002702771, step = 21401 (3.878 sec)\n",
      "INFO:tensorflow:global_step/sec: 26.3016\n",
      "INFO:tensorflow:loss = 4.557302e-05, step = 21501 (3.804 sec)\n",
      "INFO:tensorflow:global_step/sec: 25.7438\n",
      "INFO:tensorflow:loss = 0.0014867589, step = 21601 (3.884 sec)\n",
      "INFO:tensorflow:global_step/sec: 25.858\n",
      "INFO:tensorflow:loss = 0.00022004214, step = 21701 (3.866 sec)\n",
      "INFO:tensorflow:global_step/sec: 26.4639\n",
      "INFO:tensorflow:loss = 9.0114e-05, step = 21801 (3.784 sec)\n",
      "INFO:tensorflow:global_step/sec: 26.1282\n",
      "INFO:tensorflow:loss = 0.01159789, step = 21901 (3.822 sec)\n",
      "INFO:tensorflow:global_step/sec: 26.0357\n",
      "INFO:tensorflow:loss = 8.046416e-07, step = 22001 (3.841 sec)\n",
      "INFO:tensorflow:global_step/sec: 25.3952\n",
      "INFO:tensorflow:loss = 4.123825e-06, step = 22101 (3.937 sec)\n",
      "INFO:tensorflow:global_step/sec: 25.6879\n",
      "INFO:tensorflow:loss = 0.00013599769, step = 22201 (3.902 sec)\n",
      "INFO:tensorflow:global_step/sec: 25.1517\n",
      "INFO:tensorflow:loss = 3.6758222e-06, step = 22301 (3.975 sec)\n",
      "INFO:tensorflow:global_step/sec: 26.3794\n",
      "INFO:tensorflow:loss = 8.523135e-05, step = 22401 (3.787 sec)\n",
      "INFO:tensorflow:global_step/sec: 26.8454\n",
      "INFO:tensorflow:loss = 0.00088380923, step = 22501 (3.721 sec)\n",
      "INFO:tensorflow:global_step/sec: 25.6228\n",
      "INFO:tensorflow:loss = 0.00035817825, step = 22601 (3.908 sec)\n",
      "INFO:tensorflow:global_step/sec: 25.7543\n",
      "INFO:tensorflow:loss = 8.393795e-06, step = 22701 (3.947 sec)\n",
      "INFO:tensorflow:global_step/sec: 25.5986\n",
      "INFO:tensorflow:loss = 0.0003100928, step = 22801 (3.837 sec)\n",
      "INFO:tensorflow:global_step/sec: 25.555\n",
      "INFO:tensorflow:loss = 1.3682502e-05, step = 22901 (3.913 sec)\n",
      "INFO:tensorflow:global_step/sec: 25.992\n",
      "INFO:tensorflow:loss = 1.6343206e-06, step = 23001 (3.853 sec)\n",
      "INFO:tensorflow:global_step/sec: 25.4031\n",
      "INFO:tensorflow:loss = 4.4918383e-05, step = 23101 (3.931 sec)\n",
      "INFO:tensorflow:global_step/sec: 26.4291\n",
      "INFO:tensorflow:loss = 2.6640899e-05, step = 23201 (3.784 sec)\n",
      "INFO:tensorflow:global_step/sec: 26.1039\n",
      "INFO:tensorflow:loss = 2.212441e-06, step = 23301 (3.837 sec)\n",
      "INFO:tensorflow:global_step/sec: 25.475\n",
      "INFO:tensorflow:loss = 7.766945e-05, step = 23401 (3.925 sec)\n",
      "INFO:tensorflow:global_step/sec: 25.0896\n",
      "INFO:tensorflow:loss = 1.6013038e-05, step = 23501 (3.985 sec)\n",
      "INFO:tensorflow:global_step/sec: 25.4137\n",
      "INFO:tensorflow:loss = 0.026795676, step = 23601 (3.929 sec)\n",
      "INFO:tensorflow:global_step/sec: 26.5715\n",
      "INFO:tensorflow:loss = 8.882839e-05, step = 23701 (3.770 sec)\n",
      "INFO:tensorflow:global_step/sec: 26.0452\n",
      "INFO:tensorflow:loss = 1.0357563e-05, step = 23801 (3.839 sec)\n",
      "INFO:tensorflow:global_step/sec: 25.5554\n",
      "INFO:tensorflow:loss = 8.1567385e-05, step = 23901 (3.910 sec)\n",
      "INFO:tensorflow:global_step/sec: 26.249\n",
      "INFO:tensorflow:loss = 0.00064022286, step = 24001 (3.808 sec)\n",
      "INFO:tensorflow:global_step/sec: 26.9288\n",
      "INFO:tensorflow:loss = 0.0010474423, step = 24101 (3.713 sec)\n",
      "INFO:tensorflow:global_step/sec: 24.9312\n",
      "INFO:tensorflow:loss = 1.0490399e-07, step = 24201 (4.020 sec)\n",
      "INFO:tensorflow:global_step/sec: 25.6402\n",
      "INFO:tensorflow:loss = 9.858521e-05, step = 24301 (3.897 sec)\n",
      "INFO:tensorflow:global_step/sec: 25.4458\n",
      "INFO:tensorflow:loss = 4.029247e-07, step = 24401 (3.924 sec)\n",
      "INFO:tensorflow:global_step/sec: 26.2203\n",
      "INFO:tensorflow:loss = 5.717949e-05, step = 24501 (3.815 sec)\n",
      "INFO:tensorflow:global_step/sec: 26.5228\n",
      "INFO:tensorflow:loss = 0.0041484255, step = 24601 (3.770 sec)\n",
      "INFO:tensorflow:global_step/sec: 25.5876\n",
      "INFO:tensorflow:loss = 2.1741655e-06, step = 24701 (3.907 sec)\n",
      "INFO:tensorflow:global_step/sec: 26.477\n",
      "INFO:tensorflow:loss = 4.283592e-05, step = 24801 (3.778 sec)\n",
      "INFO:tensorflow:global_step/sec: 25.747\n",
      "INFO:tensorflow:loss = 0.0072650043, step = 24901 (3.884 sec)\n",
      "INFO:tensorflow:global_step/sec: 22.4328\n",
      "INFO:tensorflow:loss = 0.0002222898, step = 25001 (4.461 sec)\n",
      "INFO:tensorflow:global_step/sec: 25.4045\n",
      "INFO:tensorflow:loss = 0.0038451885, step = 25101 (3.945 sec)\n",
      "INFO:tensorflow:global_step/sec: 26.1222\n",
      "INFO:tensorflow:loss = 0.040746223, step = 25201 (3.816 sec)\n",
      "INFO:tensorflow:global_step/sec: 25.0594\n",
      "INFO:tensorflow:loss = 1.0683013e-05, step = 25301 (3.990 sec)\n",
      "INFO:tensorflow:global_step/sec: 25.65\n",
      "INFO:tensorflow:loss = 3.5762784e-09, step = 25401 (3.904 sec)\n",
      "INFO:tensorflow:global_step/sec: 25.1788\n",
      "INFO:tensorflow:loss = 1.5325053e-05, step = 25501 (3.975 sec)\n",
      "INFO:tensorflow:global_step/sec: 26.2089\n",
      "INFO:tensorflow:loss = 3.7031692e-05, step = 25601 (3.812 sec)\n",
      "INFO:tensorflow:global_step/sec: 26.1936\n",
      "INFO:tensorflow:loss = 0.00033403744, step = 25701 (3.813 sec)\n",
      "INFO:tensorflow:global_step/sec: 25.6728\n",
      "INFO:tensorflow:loss = 0.00036504227, step = 25801 (3.955 sec)\n",
      "INFO:tensorflow:global_step/sec: 25.2437\n",
      "INFO:tensorflow:loss = 0.023237651, step = 25901 (3.906 sec)\n",
      "INFO:tensorflow:global_step/sec: 25.3692\n",
      "INFO:tensorflow:loss = 0.0010152425, step = 26001 (3.938 sec)\n",
      "INFO:tensorflow:global_step/sec: 25.565\n",
      "INFO:tensorflow:loss = 0.00094648136, step = 26101 (3.911 sec)\n",
      "INFO:tensorflow:global_step/sec: 25.6199\n",
      "INFO:tensorflow:loss = 3.3378548e-08, step = 26201 (3.913 sec)\n",
      "INFO:tensorflow:global_step/sec: 25.7868\n",
      "INFO:tensorflow:loss = 1.1324488e-05, step = 26301 (3.868 sec)\n",
      "INFO:tensorflow:global_step/sec: 26.1301\n",
      "INFO:tensorflow:loss = 8.9284055e-07, step = 26401 (3.827 sec)\n",
      "INFO:tensorflow:global_step/sec: 25.9719\n",
      "INFO:tensorflow:loss = 0.022040725, step = 26501 (3.850 sec)\n",
      "INFO:tensorflow:global_step/sec: 25.467\n",
      "INFO:tensorflow:loss = 8.774956e-06, step = 26601 (3.927 sec)\n",
      "INFO:tensorflow:global_step/sec: 25.6353\n",
      "INFO:tensorflow:loss = 1.7391774e-06, step = 26701 (3.909 sec)\n",
      "INFO:tensorflow:global_step/sec: 26.2256\n",
      "INFO:tensorflow:loss = 9.52055e-06, step = 26801 (3.805 sec)\n",
      "INFO:tensorflow:global_step/sec: 25.6812\n",
      "INFO:tensorflow:loss = 0.018522775, step = 26901 (3.905 sec)\n",
      "INFO:tensorflow:global_step/sec: 25.798\n",
      "INFO:tensorflow:loss = 2.2787252e-05, step = 27001 (3.866 sec)\n",
      "INFO:tensorflow:global_step/sec: 25.1263\n",
      "INFO:tensorflow:loss = 0.00035576726, step = 27101 (3.982 sec)\n",
      "INFO:tensorflow:global_step/sec: 26.0054\n",
      "INFO:tensorflow:loss = 2.119445e-06, step = 27201 (3.844 sec)\n",
      "INFO:tensorflow:global_step/sec: 26.1771\n",
      "INFO:tensorflow:loss = 1.1920929e-09, step = 27301 (3.819 sec)\n",
      "INFO:tensorflow:global_step/sec: 26.0854\n",
      "INFO:tensorflow:loss = 4.1723183e-08, step = 27401 (3.840 sec)\n",
      "INFO:tensorflow:global_step/sec: 25.8988\n",
      "INFO:tensorflow:loss = 0.0042388914, step = 27501 (3.858 sec)\n",
      "INFO:tensorflow:global_step/sec: 25.8844\n",
      "INFO:tensorflow:loss = 3.5592334e-06, step = 27601 (3.861 sec)\n",
      "INFO:tensorflow:global_step/sec: 25.9698\n",
      "INFO:tensorflow:loss = 0.0012207143, step = 27701 (3.851 sec)\n",
      "INFO:tensorflow:global_step/sec: 25.2337\n"
     ]
    },
    {
     "name": "stdout",
     "output_type": "stream",
     "text": [
      "INFO:tensorflow:loss = 3.2411078e-06, step = 27801 (3.962 sec)\n",
      "INFO:tensorflow:global_step/sec: 25.5464\n",
      "INFO:tensorflow:loss = 3.5762784e-09, step = 27901 (3.921 sec)\n",
      "INFO:tensorflow:global_step/sec: 26.0807\n",
      "INFO:tensorflow:loss = 5.2012897e-06, step = 28001 (3.828 sec)\n",
      "INFO:tensorflow:global_step/sec: 26.6419\n",
      "INFO:tensorflow:loss = 1.7166064e-07, step = 28101 (3.753 sec)\n",
      "INFO:tensorflow:global_step/sec: 26.6007\n",
      "INFO:tensorflow:loss = 0.01041414, step = 28201 (3.759 sec)\n",
      "INFO:tensorflow:global_step/sec: 26.1568\n",
      "INFO:tensorflow:loss = 2.0273585e-05, step = 28301 (3.823 sec)\n",
      "INFO:tensorflow:global_step/sec: 26.0761\n",
      "INFO:tensorflow:loss = 0.0005050216, step = 28401 (3.835 sec)\n",
      "INFO:tensorflow:global_step/sec: 25.6067\n",
      "INFO:tensorflow:loss = 0.0012033341, step = 28501 (3.913 sec)\n",
      "INFO:tensorflow:global_step/sec: 26.8364\n",
      "INFO:tensorflow:loss = 4.7683688e-08, step = 28601 (3.724 sec)\n",
      "INFO:tensorflow:global_step/sec: 26.1681\n",
      "INFO:tensorflow:loss = 9.690596e-06, step = 28701 (3.816 sec)\n",
      "INFO:tensorflow:global_step/sec: 25.5607\n",
      "INFO:tensorflow:loss = 0.002215963, step = 28801 (3.918 sec)\n",
      "INFO:tensorflow:global_step/sec: 26.4819\n",
      "INFO:tensorflow:loss = 1.6938221e-06, step = 28901 (3.771 sec)\n",
      "INFO:tensorflow:global_step/sec: 26.33\n",
      "INFO:tensorflow:loss = 2.642554e-05, step = 29001 (3.849 sec)\n",
      "INFO:tensorflow:global_step/sec: 24.7906\n",
      "INFO:tensorflow:loss = 1.7881382e-08, step = 29101 (3.983 sec)\n",
      "INFO:tensorflow:global_step/sec: 25.9968\n",
      "INFO:tensorflow:loss = 4.2078944e-05, step = 29201 (3.848 sec)\n",
      "INFO:tensorflow:global_step/sec: 26.1704\n",
      "INFO:tensorflow:loss = 0.00013555256, step = 29301 (3.820 sec)\n",
      "INFO:tensorflow:global_step/sec: 25.2236\n",
      "INFO:tensorflow:loss = 1.1729578e-06, step = 29401 (3.964 sec)\n",
      "INFO:tensorflow:global_step/sec: 25.9354\n",
      "INFO:tensorflow:loss = 1.1920929e-09, step = 29501 (3.855 sec)\n",
      "INFO:tensorflow:global_step/sec: 26.4224\n",
      "INFO:tensorflow:loss = 0.004769925, step = 29601 (3.785 sec)\n",
      "INFO:tensorflow:global_step/sec: 25.8465\n",
      "INFO:tensorflow:loss = 0.02759584, step = 29701 (3.869 sec)\n",
      "INFO:tensorflow:global_step/sec: 25.8919\n",
      "INFO:tensorflow:loss = 0.00023893313, step = 29801 (3.863 sec)\n",
      "INFO:tensorflow:global_step/sec: 25.5064\n",
      "INFO:tensorflow:loss = 0.0037549539, step = 29901 (3.926 sec)\n",
      "INFO:tensorflow:Saving checkpoints for 30000 into model4\\model.ckpt.\n",
      "INFO:tensorflow:Loss for final step: 7.660662e-05.\n"
     ]
    }
   ],
   "source": [
    "data = {\n",
    "    \"inputs\": train_data,\n",
    "    \"labels\": train_labels\n",
    "}\n",
    "train_classifier(data, 100, 10000, classifier)"
   ]
  },
  {
   "cell_type": "code",
   "execution_count": 7,
   "metadata": {},
   "outputs": [
    {
     "name": "stdout",
     "output_type": "stream",
     "text": [
      "INFO:tensorflow:Starting evaluation at 2018-04-05-16:52:32\n",
      "INFO:tensorflow:Restoring parameters from model4\\model.ckpt-30000\n",
      "INFO:tensorflow:Finished evaluation at 2018-04-05-16:52:36\n",
      "INFO:tensorflow:Saving dict for global step 30000: accuracy = 0.9996, global_step = 30000, loss = 0.00081319775\n"
     ]
    }
   ],
   "source": [
    "eval_data = {\n",
    "    \"inputs\": train_data[20000:40000],\n",
    "    \"labels\": train_labels[20000:40000]\n",
    "}\n",
    "\n",
    "evaluate_classifier(eval_data, classifier)"
   ]
  },
  {
   "cell_type": "code",
   "execution_count": null,
   "metadata": {
    "collapsed": true
   },
   "outputs": [],
   "source": [
    "from grader import Grader\n",
    "from time import gmtime, strftime\n",
    "\n",
    "\n",
    "grader = Grader(classifier, test_data)\n",
    "print(strftime(\"%Y-%m-%d %H:%M:%S\", gmtime()))\n",
    "grader.grade((24, 120), 5, \"results4.csv\")\n",
    "print(strftime(\"%Y-%m-%d %H:%M:%S\", gmtime()))"
   ]
  }
 ],
 "metadata": {
  "kernelspec": {
   "display_name": "Python 3",
   "language": "python",
   "name": "python3"
  },
  "language_info": {
   "codemirror_mode": {
    "name": "ipython",
    "version": 3
   },
   "file_extension": ".py",
   "mimetype": "text/x-python",
   "name": "python",
   "nbconvert_exporter": "python",
   "pygments_lexer": "ipython3",
   "version": "3.6.3"
  }
 },
 "nbformat": 4,
 "nbformat_minor": 2
}
