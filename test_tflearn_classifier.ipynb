{
 "cells": [
  {
   "cell_type": "code",
   "execution_count": 1,
   "metadata": {},
   "outputs": [
    {
     "name": "stdout",
     "output_type": "stream",
     "text": [
      "env: CUDA_DEVICE_ORDER=PCI_BUS_ID\n",
      "env: CUDA_VISIBLE_DEVICES=0\n"
     ]
    }
   ],
   "source": [
    "%env CUDA_DEVICE_ORDER=PCI_BUS_ID\n",
    "%env CUDA_VISIBLE_DEVICES=0"
   ]
  },
  {
   "cell_type": "code",
   "execution_count": 2,
   "metadata": {
    "collapsed": true
   },
   "outputs": [],
   "source": [
    "import handle_data as hd\n",
    "path = \"data/ml_data/\""
   ]
  },
  {
   "cell_type": "code",
   "execution_count": 3,
   "metadata": {},
   "outputs": [],
   "source": [
    "train_data = hd.read_data(path, \"train.csv\", dt=\"float32\")\n",
    "train_labels = hd.read_data(path, \"train_labels.csv\", dt=\"int32\")"
   ]
  },
  {
   "cell_type": "code",
   "execution_count": 4,
   "metadata": {
    "collapsed": true
   },
   "outputs": [],
   "source": [
    "test_data = hd.read_data(path, \"test.csv\")"
   ]
  },
  {
   "cell_type": "code",
   "execution_count": 5,
   "metadata": {},
   "outputs": [
    {
     "name": "stderr",
     "output_type": "stream",
     "text": [
      "C:\\IntelPython3\\lib\\site-packages\\h5py\\__init__.py:36: FutureWarning: Conversion of the second argument of issubdtype from `float` to `np.floating` is deprecated. In future, it will be treated as `np.float64 == np.dtype(float).type`.\n",
      "  from ._conv import register_converters as _register_converters\n"
     ]
    },
    {
     "name": "stdout",
     "output_type": "stream",
     "text": [
      "curses is not supported on this machine (please install/reinstall curses for an optimal experience)\n"
     ]
    }
   ],
   "source": [
    "from model import *"
   ]
  },
  {
   "cell_type": "code",
   "execution_count": 6,
   "metadata": {},
   "outputs": [
    {
     "name": "stdout",
     "output_type": "stream",
     "text": [
      "WARNING:tensorflow:From C:\\IntelPython3\\lib\\site-packages\\tflearn\\initializations.py:119: UniformUnitScaling.__init__ (from tensorflow.python.ops.init_ops) is deprecated and will be removed in a future version.\n",
      "Instructions for updating:\n",
      "Use tf.initializers.variance_scaling instead with distribution=uniform to get equivalent behavior.\n"
     ]
    }
   ],
   "source": [
    "#data = {\n",
    "#    \"inputs\": equation[:1],\n",
    "#    \"labels\": np.array([1])\n",
    "#}\n",
    "params_2nd_submit = {\n",
    "    \"input_shape\": [-1, 24, 24, 1],\n",
    "    \"conv_filters\": 32,\n",
    "    \"conv_kernel\": (5, 5),\n",
    "    \"pool_size\": (2,2),\n",
    "    \"pool_strides\": 2,\n",
    "    \"dense_units\": 1024,\n",
    "    \"dropout_rate\": 0.45,\n",
    "    \"output_units\": 13,\n",
    "    \"dir\": \"model2\"\n",
    "}\n",
    "params_3rd_submit = {\n",
    "    \"input_shape\": [None, 24, 24, 1],\n",
    "    \"conv_filters\": 32,\n",
    "    \"conv_kernel\": (4, 4),\n",
    "    \"pool_size\": (2,2),\n",
    "    \"pool_strides\": 2,\n",
    "    \"dense_units\": 1024,\n",
    "    \"dropout_rate\": 0.5,\n",
    "    \"output_units\": 13\n",
    "}\n",
    "#classifier = generate_classifier(form_model(params_3rd_submit), \"z_tfl_model_1\")\n",
    "classifier = generate_classifier(form_model(params_3rd_submit), \"z_tfl_model_plain\")"
   ]
  },
  {
   "cell_type": "code",
   "execution_count": 7,
   "metadata": {},
   "outputs": [
    {
     "data": {
      "text/plain": [
       "(80000, 13)"
      ]
     },
     "execution_count": 7,
     "metadata": {},
     "output_type": "execute_result"
    }
   ],
   "source": [
    "import numpy as np\n",
    "def translate_labels(labels, batch_size, dimen):\n",
    "    \"\"\"\n",
    "    Translate the labels for the input data into a (batch_size, dimen) matrix\n",
    "    where the column equaling to the class for the given input has a value of\n",
    "    1 while all other columns have 0s.\n",
    "\n",
    "    Inputs:\n",
    "    - labels: vector of batch_size with classes for each input\n",
    "    - batch_size: number of inputs\n",
    "    - dimen: dimensionality of the inputs\n",
    "\n",
    "    Return:\n",
    "    - matrix of translated labels\n",
    "    \"\"\"\n",
    "    new_labels = np.zeros([labels.shape[0], dimen], dtype=int)\n",
    "    new_labels[range(batch_size), labels] = 1\n",
    "    return new_labels\n",
    "labels = translate_labels(train_labels.reshape([-1,]), train_data.shape[0], 13)\n",
    "labels.shape"
   ]
  },
  {
   "cell_type": "code",
   "execution_count": 8,
   "metadata": {
    "scrolled": true
   },
   "outputs": [
    {
     "name": "stdout",
     "output_type": "stream",
     "text": [
      "Training Step: 10799  | total loss: \u001b[1m\u001b[32m0.36368\u001b[0m\u001b[0m | time: 60.451s\n",
      "| Adam | epoch: 015 | loss: 0.36368 - acc: 0.9714 -- iter: 71900/72000\n",
      "Training Step: 10800  | total loss: \u001b[1m\u001b[32m0.32808\u001b[0m\u001b[0m | time: 61.685s\n",
      "| Adam | epoch: 015 | loss: 0.32808 - acc: 0.9742 | val_loss: 0.03828 - val_acc: 0.9905 -- iter: 72000/72000\n",
      "--\n",
      "INFO:tensorflow:C:\\Users\\trevm\\Documents\\ui\\2017-2018\\dscomp\\2018_dscomp\\z_tfl_model_plain-10800 is not in all_model_checkpoint_paths. Manually adding it.\n",
      "INFO:tensorflow:C:\\Users\\trevm\\Documents\\ui\\2017-2018\\dscomp\\2018_dscomp\\tfl_model_plain.tfl is not in all_model_checkpoint_paths. Manually adding it.\n"
     ]
    }
   ],
   "source": [
    "data = {\n",
    "    \"inputs\": train_data.reshape([-1, 24, 24, 1]),\n",
    "    \"labels\": labels\n",
    "}\n",
    "classifier = train_classifier(classifier, data, num_epochs=15, num_steps=None, batch_size=100, model_file=\"tfl_model_plain.tfl\")"
   ]
  },
  {
   "cell_type": "code",
   "execution_count": null,
   "metadata": {
    "collapsed": true
   },
   "outputs": [],
   "source": [
    "from grader import Grader\n",
    "from time import gmtime, strftime\n",
    "\n",
    "\n",
    "grader = Grader(classifier, test_data)\n",
    "print(strftime(\"%Y-%m-%d %H:%M:%S\", gmtime()))\n",
    "grader.grade((24, 120), 5, \"results4.csv\")\n",
    "print(strftime(\"%Y-%m-%d %H:%M:%S\", gmtime()))"
   ]
  }
 ],
 "metadata": {
  "kernelspec": {
   "display_name": "Python 3",
   "language": "python",
   "name": "python3"
  },
  "language_info": {
   "codemirror_mode": {
    "name": "ipython",
    "version": 3
   },
   "file_extension": ".py",
   "mimetype": "text/x-python",
   "name": "python",
   "nbconvert_exporter": "python",
   "pygments_lexer": "ipython3",
   "version": "3.6.3"
  }
 },
 "nbformat": 4,
 "nbformat_minor": 2
}
